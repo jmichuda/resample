{
 "cells": [
  {
   "cell_type": "markdown",
   "metadata": {},
   "source": [
    "## resample"
   ]
  },
  {
   "cell_type": "code",
   "execution_count": 1,
   "metadata": {},
   "outputs": [],
   "source": [
    "import warnings\n",
    "import numpy as np\n",
    "import scipy.stats as stats\n",
    "import pandas as pd\n",
    "from resample import permutation, bootstrap, utils\n",
    "from sklearn.datasets import load_boston\n",
    "import seaborn as sns\n",
    "\n",
    "warnings.simplefilter(\"ignore\")"
   ]
  },
  {
   "cell_type": "markdown",
   "metadata": {},
   "source": [
    "## Basic Functionality"
   ]
  },
  {
   "cell_type": "markdown",
   "metadata": {},
   "source": [
    "#### Generating bootstrap samples"
   ]
  },
  {
   "cell_type": "code",
   "execution_count": 2,
   "metadata": {},
   "outputs": [
    {
     "data": {
      "text/plain": [
       "array([-1.0218717 , -0.8576037 , -1.0297075 , -2.11367832, -2.4680652 ,\n",
       "        0.00398188, -1.33510943, -0.74452813,  0.73983358, -0.03042519,\n",
       "       -0.36217449,  1.09438223,  0.02102908,  0.53032732,  1.26119571,\n",
       "        1.40659141,  1.15322859,  0.24690586, -2.14475596,  1.86518119,\n",
       "       -0.69591197,  0.27308648,  1.40991964,  0.43887777, -1.31968055])"
      ]
     },
     "execution_count": 2,
     "metadata": {},
     "output_type": "execute_result"
    }
   ],
   "source": [
    "x = np.random.randn(25)\n",
    "x"
   ]
  },
  {
   "cell_type": "markdown",
   "metadata": {},
   "source": [
    "The default is a balanced bootstrap.  This means that each element has the same distribution over all bootstrap samples as in the original sample."
   ]
  },
  {
   "cell_type": "code",
   "execution_count": 3,
   "metadata": {},
   "outputs": [
    {
     "data": {
      "text/plain": [
       "array([[ 0.73983358,  1.40659141,  0.43887777, ..., -2.11367832,\n",
       "        -0.8576037 , -0.74452813],\n",
       "       [ 0.02102908, -0.36217449,  1.40659141, ...,  0.24690586,\n",
       "        -2.4680652 ,  0.02102908],\n",
       "       [ 0.53032732,  0.00398188, -1.33510943, ...,  1.86518119,\n",
       "         0.27308648,  0.43887777],\n",
       "       ...,\n",
       "       [ 1.40659141, -0.69591197, -2.14475596, ...,  0.53032732,\n",
       "        -0.69591197, -1.31968055],\n",
       "       [-0.36217449, -0.36217449,  0.24690586, ..., -1.0218717 ,\n",
       "         1.09438223,  0.73983358],\n",
       "       [-2.11367832, -0.36217449, -1.31968055, ..., -1.0297075 ,\n",
       "         0.27308648, -0.74452813]])"
      ]
     },
     "execution_count": 3,
     "metadata": {},
     "output_type": "execute_result"
    }
   ],
   "source": [
    "bootstrap.bootstrap(x)"
   ]
  },
  {
   "cell_type": "markdown",
   "metadata": {},
   "source": [
    "Ordinary sampling with replacement can be done by modifying the `method` argument"
   ]
  },
  {
   "cell_type": "code",
   "execution_count": 4,
   "metadata": {},
   "outputs": [
    {
     "data": {
      "text/plain": [
       "array([[ 1.40991964,  0.53032732,  1.15322859, ...,  1.15322859,\n",
       "         0.02102908, -1.0218717 ],\n",
       "       [ 0.43887777, -0.8576037 , -0.74452813, ..., -2.11367832,\n",
       "        -1.0297075 ,  0.00398188],\n",
       "       [ 0.00398188,  1.15322859,  0.43887777, ...,  1.26119571,\n",
       "        -0.03042519,  1.40991964],\n",
       "       ...,\n",
       "       [-1.31968055, -1.33510943, -0.03042519, ..., -0.36217449,\n",
       "        -0.69591197,  0.02102908],\n",
       "       [-2.11367832,  0.02102908,  0.00398188, ..., -2.4680652 ,\n",
       "        -1.0218717 ,  0.00398188],\n",
       "       [ 0.02102908,  0.27308648, -0.03042519, ...,  1.40991964,\n",
       "        -2.4680652 , -0.74452813]])"
      ]
     },
     "execution_count": 4,
     "metadata": {},
     "output_type": "execute_result"
    }
   ],
   "source": [
    "bootstrap.bootstrap(x, method=\"ordinary\")"
   ]
  },
  {
   "cell_type": "markdown",
   "metadata": {},
   "source": [
    "Bootstrapping of higher-dimensional arrays is also possible, with resampling always occuring along the $0^{\\text{th}}$ axis (rows in the case of a two dimensional array)"
   ]
  },
  {
   "cell_type": "code",
   "execution_count": 5,
   "metadata": {},
   "outputs": [
    {
     "data": {
      "text/plain": [
       "array([[-0.80108001, -0.33678172],\n",
       "       [-0.68627766,  0.41540435],\n",
       "       [-0.85770679,  1.75086488],\n",
       "       [ 0.47050699, -1.49044996],\n",
       "       [-0.29072402, -0.73867557],\n",
       "       [-0.36995325,  0.32657438],\n",
       "       [ 1.77203269, -0.40468228],\n",
       "       [-1.16940288,  1.21485764],\n",
       "       [-0.89221121, -1.06586278],\n",
       "       [ 0.01520996, -1.16028246]])"
      ]
     },
     "execution_count": 5,
     "metadata": {},
     "output_type": "execute_result"
    }
   ],
   "source": [
    "x = np.random.normal(size=(10, 2))\n",
    "x"
   ]
  },
  {
   "cell_type": "code",
   "execution_count": 6,
   "metadata": {},
   "outputs": [
    {
     "data": {
      "text/plain": [
       "array([[[-0.85770679,  1.75086488],\n",
       "        [-0.29072402, -0.73867557],\n",
       "        [ 1.77203269, -0.40468228],\n",
       "        [-0.89221121, -1.06586278],\n",
       "        [-0.29072402, -0.73867557],\n",
       "        [-0.36995325,  0.32657438],\n",
       "        [-0.68627766,  0.41540435],\n",
       "        [ 0.47050699, -1.49044996],\n",
       "        [-1.16940288,  1.21485764],\n",
       "        [-0.68627766,  0.41540435]],\n",
       "\n",
       "       [[ 1.77203269, -0.40468228],\n",
       "        [ 0.01520996, -1.16028246],\n",
       "        [ 0.47050699, -1.49044996],\n",
       "        [-0.29072402, -0.73867557],\n",
       "        [-0.80108001, -0.33678172],\n",
       "        [ 1.77203269, -0.40468228],\n",
       "        [-0.85770679,  1.75086488],\n",
       "        [-1.16940288,  1.21485764],\n",
       "        [-0.89221121, -1.06586278],\n",
       "        [-0.80108001, -0.33678172]],\n",
       "\n",
       "       [[-0.89221121, -1.06586278],\n",
       "        [-0.80108001, -0.33678172],\n",
       "        [ 0.47050699, -1.49044996],\n",
       "        [-0.36995325,  0.32657438],\n",
       "        [-1.16940288,  1.21485764],\n",
       "        [-0.68627766,  0.41540435],\n",
       "        [ 0.01520996, -1.16028246],\n",
       "        [ 0.01520996, -1.16028246],\n",
       "        [-0.36995325,  0.32657438],\n",
       "        [-0.85770679,  1.75086488]]])"
      ]
     },
     "execution_count": 6,
     "metadata": {},
     "output_type": "execute_result"
    }
   ],
   "source": [
    "bootstrap.bootstrap(x, b=3)"
   ]
  },
  {
   "cell_type": "markdown",
   "metadata": {},
   "source": [
    "`bootstrap` can be called on any array-like object"
   ]
  },
  {
   "cell_type": "code",
   "execution_count": 7,
   "metadata": {},
   "outputs": [
    {
     "data": {
      "text/plain": [
       "array([['b', 'b', 'd', 'a'],\n",
       "       ['b', 'b', 'c', 'a'],\n",
       "       ['a', 'c', 'a', 'b'],\n",
       "       ['d', 'b', 'b', 'd'],\n",
       "       ['a', 'd', 'c', 'a'],\n",
       "       ['d', 'd', 'a', 'c'],\n",
       "       ['c', 'a', 'd', 'a'],\n",
       "       ['a', 'c', 'd', 'b'],\n",
       "       ['b', 'c', 'c', 'd'],\n",
       "       ['d', 'c', 'b', 'c']], dtype='<U1')"
      ]
     },
     "execution_count": 7,
     "metadata": {},
     "output_type": "execute_result"
    }
   ],
   "source": [
    "bootstrap.bootstrap(list(\"abcd\"), b=10)"
   ]
  },
  {
   "cell_type": "code",
   "execution_count": 8,
   "metadata": {},
   "outputs": [
    {
     "data": {
      "text/plain": [
       "array([[{'a': 1, 'b': 2}, {'c': 5, 'd': 3}, {'a', 5}],\n",
       "       [{'c': 5, 'd': 3}, {'a', 5}, {'a': 1, 'b': 2}],\n",
       "       [{'c': 5, 'd': 3}, {'c': 5, 'd': 3}, {'a': 1, 'b': 2}],\n",
       "       [{'a', 5}, {'a', 5}, {'a': 1, 'b': 2}],\n",
       "       [{'a', 5}, {'a': 1, 'b': 2}, {'a', 5}],\n",
       "       [{'a', 5}, {'a', 5}, {'a': 1, 'b': 2}],\n",
       "       [{'c': 5, 'd': 3}, {'a', 5}, {'c': 5, 'd': 3}],\n",
       "       [{'a': 1, 'b': 2}, {'c': 5, 'd': 3}, {'a': 1, 'b': 2}],\n",
       "       [{'a': 1, 'b': 2}, {'c': 5, 'd': 3}, {'a': 1, 'b': 2}],\n",
       "       [{'a', 5}, {'c': 5, 'd': 3}, {'c': 5, 'd': 3}]], dtype=object)"
      ]
     },
     "execution_count": 8,
     "metadata": {},
     "output_type": "execute_result"
    }
   ],
   "source": [
    "bootstrap.bootstrap([{\"a\": 1, \"b\": 2}, {\"a\", 5}, {\"c\": 5, \"d\": 3}], b=10)"
   ]
  },
  {
   "cell_type": "markdown",
   "metadata": {},
   "source": [
    "This includes `numpy` arrays of arbitrary dimension"
   ]
  },
  {
   "cell_type": "code",
   "execution_count": 9,
   "metadata": {},
   "outputs": [
    {
     "data": {
      "text/plain": [
       "(100, 32, 16, 8, 4, 2)"
      ]
     },
     "execution_count": 9,
     "metadata": {},
     "output_type": "execute_result"
    }
   ],
   "source": [
    "x = np.random.normal(size=(32, 16, 8, 4, 2))\n",
    "bootstrap.bootstrap(x).shape"
   ]
  },
  {
   "cell_type": "markdown",
   "metadata": {},
   "source": [
    "#### Stratified sampling"
   ]
  },
  {
   "cell_type": "markdown",
   "metadata": {},
   "source": [
    "By using the `strata` argument we can ensure that the distributions of specific classes are maintained over all bootstrap samples.  This is especially useful in classification tasks where we wish to eliminate unwanted variance with respect to the class proportions when modeling.  To illustrate we create an indicator for whether or not the value of `x` is negative and pass this to `strata` when generating our samples.  (The value of `strata` can be of any type, it only needs to have the same length as the input array.  The stratification will simply be done with respect to the distinct values of the argument.)"
   ]
  },
  {
   "cell_type": "code",
   "execution_count": 10,
   "metadata": {},
   "outputs": [
    {
     "data": {
      "text/plain": [
       "array([-1.49518818,  0.1142961 ,  0.95476475, -0.83549857,  0.41153475,\n",
       "        1.53416695,  0.42935603, -0.20870145, -1.57602525,  1.15599898,\n",
       "        0.26508729, -0.05437623, -0.73430647, -0.32933629,  0.47098819,\n",
       "       -0.54347661, -1.82684399,  0.04580003, -0.17700651,  0.30300493,\n",
       "        0.21584653,  0.97108691,  0.42211687,  0.4267001 , -1.63679915])"
      ]
     },
     "execution_count": 10,
     "metadata": {},
     "output_type": "execute_result"
    }
   ],
   "source": [
    "x = np.random.randn(25)\n",
    "x"
   ]
  },
  {
   "cell_type": "code",
   "execution_count": 11,
   "metadata": {},
   "outputs": [
    {
     "data": {
      "text/plain": [
       "0.44"
      ]
     },
     "execution_count": 11,
     "metadata": {},
     "output_type": "execute_result"
    }
   ],
   "source": [
    "y = x < 0\n",
    "np.mean(y)"
   ]
  },
  {
   "cell_type": "markdown",
   "metadata": {},
   "source": [
    "All bootstrap samples have the same proportion of negative values as in `x`"
   ]
  },
  {
   "cell_type": "code",
   "execution_count": 12,
   "metadata": {},
   "outputs": [
    {
     "data": {
      "text/plain": [
       "[0.44, 0.44, 0.44, 0.44, 0.44, 0.44, 0.44, 0.44, 0.44, 0.44]"
      ]
     },
     "execution_count": 12,
     "metadata": {},
     "output_type": "execute_result"
    }
   ],
   "source": [
    "boot = bootstrap.bootstrap(x, b=10, strata=y)\n",
    "[np.mean(s < 0) for s in boot]"
   ]
  },
  {
   "cell_type": "markdown",
   "metadata": {},
   "source": [
    "#### Parametric bootstrap"
   ]
  },
  {
   "cell_type": "markdown",
   "metadata": {},
   "source": [
    "We can perform parametric bootstrapping of one dimensional arrays by setting `method=\"parametric\"` within `bootstrap` and specifying an appropriate `family`.  (Supported distributions are the Gaussian, $t$, Laplace, logistic, $F$, gamma, log-normal, inverse Gaussian, Pareto, beta and Poisson.)  The function will then fit the parameters of the distribution by maximum likelihood and sample from the fitted distribution."
   ]
  },
  {
   "cell_type": "markdown",
   "metadata": {},
   "source": [
    "Here we take our original Gaussian array and square it, which yields a $\\chi^2$ sample"
   ]
  },
  {
   "cell_type": "code",
   "execution_count": 13,
   "metadata": {},
   "outputs": [
    {
     "data": {
      "text/plain": [
       "array([2.23558769e+00, 1.30635980e-02, 9.11575719e-01, 6.98057861e-01,\n",
       "       1.69360848e-01, 2.35366824e+00, 1.84346597e-01, 4.35562953e-02,\n",
       "       2.48385559e+00, 1.33633364e+00, 7.02712706e-02, 2.95677473e-03,\n",
       "       5.39205989e-01, 1.08462391e-01, 2.21829874e-01, 2.95366823e-01,\n",
       "       3.33735896e+00, 2.09764253e-03, 3.13313048e-02, 9.18119865e-02,\n",
       "       4.65897248e-02, 9.43009789e-01, 1.78182650e-01, 1.82072977e-01,\n",
       "       2.67911145e+00])"
      ]
     },
     "execution_count": 13,
     "metadata": {},
     "output_type": "execute_result"
    }
   ],
   "source": [
    "x = x**2\n",
    "x"
   ]
  },
  {
   "cell_type": "code",
   "execution_count": 14,
   "metadata": {},
   "outputs": [
    {
     "data": {
      "text/plain": [
       "<matplotlib.axes._subplots.AxesSubplot at 0x10b3b0048>"
      ]
     },
     "execution_count": 14,
     "metadata": {},
     "output_type": "execute_result"
    },
    {
     "data": {
      "image/png": "[encoded data removed]",
      "text/plain": [
       "<Figure size 432x288 with 1 Axes>"
      ]
     },
     "metadata": {},
     "output_type": "display_data"
    }
   ],
   "source": [
    "sns.distplot(x, hist=False)"
   ]
  },
  {
   "cell_type": "markdown",
   "metadata": {},
   "source": [
    "If we knew that our underlying sample was $\\chi^2$ or close to it, then it would make sense to use this information and draw our bootstrap samples from a fitted gamma distribution (which includes the $\\chi^2$ as a special case)"
   ]
  },
  {
   "cell_type": "code",
   "execution_count": 15,
   "metadata": {},
   "outputs": [
    {
     "data": {
      "text/plain": [
       "array([[2.31705853e+00, 8.82593081e-02, 3.95358350e-01, ...,\n",
       "        1.35670277e+00, 1.35558880e+00, 3.29532145e-02],\n",
       "       [5.85183259e-01, 2.06959858e-01, 3.66404680e-02, ...,\n",
       "        3.09338912e-01, 7.30978908e-02, 2.30096942e-04],\n",
       "       [3.58369383e-01, 2.02856718e-01, 1.19946498e+00, ...,\n",
       "        8.35673220e-01, 1.07584513e+00, 1.77040603e+00],\n",
       "       ...,\n",
       "       [1.10270359e+00, 2.49454817e-01, 1.99239498e-02, ...,\n",
       "        2.58910612e-02, 9.29598049e-01, 2.33631795e-02],\n",
       "       [3.47068824e-02, 3.04002791e-01, 1.78099891e+00, ...,\n",
       "        1.60678633e-01, 8.56530961e-01, 7.46043855e+00],\n",
       "       [5.49701306e-01, 5.75555605e-03, 1.20842129e-02, ...,\n",
       "        3.04023093e-01, 2.10674374e+00, 2.30839994e+00]])"
      ]
     },
     "execution_count": 15,
     "metadata": {},
     "output_type": "execute_result"
    }
   ],
   "source": [
    "bootstrap.bootstrap(x, method=\"parametric\", family=\"gamma\")"
   ]
  },
  {
   "cell_type": "markdown",
   "metadata": {},
   "source": [
    "#### Smoothing"
   ]
  },
  {
   "cell_type": "markdown",
   "metadata": {},
   "source": [
    "Smoothing can be applied to bootstrap samples by setting `smooth=True`.  This adds a small amount of Gaussian noise to each draw from the original sample and is equivalent to sampling from a kernel density estimate of the data."
   ]
  },
  {
   "cell_type": "code",
   "execution_count": 16,
   "metadata": {},
   "outputs": [
    {
     "data": {
      "text/plain": [
       "array([[-0.06542767,  2.0450766 ,  2.57030278, ...,  0.19100875,\n",
       "         0.2349644 ,  0.79057584],\n",
       "       [ 0.41432984,  0.25567166,  3.07245254, ...,  0.81973058,\n",
       "         2.76861894,  0.1356538 ],\n",
       "       [-0.00313786, -0.04108902,  0.16256875, ...,  0.36747019,\n",
       "         0.60200178,  0.08894964],\n",
       "       ...,\n",
       "       [ 0.52862073,  2.55726489,  2.53543117, ...,  0.02988727,\n",
       "         1.32419937,  1.47874289],\n",
       "       [-0.03925884,  2.25687939, -0.07603582, ...,  3.10252522,\n",
       "         0.10785304,  0.55776039],\n",
       "       [ 0.00896228,  0.06376035,  2.5622006 , ...,  0.23444042,\n",
       "         1.23785424,  1.18833452]])"
      ]
     },
     "execution_count": 16,
     "metadata": {},
     "output_type": "execute_result"
    }
   ],
   "source": [
    "bootstrap.bootstrap(x, smooth=True)"
   ]
  },
  {
   "cell_type": "markdown",
   "metadata": {},
   "source": [
    "#### Applying functions to bootstrap samples"
   ]
  },
  {
   "cell_type": "markdown",
   "metadata": {},
   "source": [
    "An optional function `f` can be applied to each bootstrap sample"
   ]
  },
  {
   "cell_type": "code",
   "execution_count": 17,
   "metadata": {},
   "outputs": [
    {
     "data": {
      "text/plain": [
       "array([1.11711149, 0.67611414, 0.62070071, 1.34523923, 0.72868008,\n",
       "       1.06140079, 1.39106214, 0.30231246, 1.38085509, 0.95794494])"
      ]
     },
     "execution_count": 17,
     "metadata": {},
     "output_type": "execute_result"
    }
   ],
   "source": [
    "bootstrap.bootstrap(x, f=np.var, b=10)"
   ]
  },
  {
   "cell_type": "markdown",
   "metadata": {},
   "source": [
    "`f` can have any return value, the only requirement is that it accept the bootstrapped elements as inputs.  Here we return an entire dictionary of summary statistics."
   ]
  },
  {
   "cell_type": "code",
   "execution_count": 18,
   "metadata": {},
   "outputs": [
    {
     "data": {
      "text/plain": [
       "array([{'mean': 0.48606279481330467, 'variance': 0.6079621304483478, 'skewness': 2.3912169792394793, 'kurtosis': 5.284278967895604},\n",
       "       {'mean': 0.5805782281269686, 'variance': 1.0764697249349118, 'skewness': 1.9124919566365663, 'kurtosis': 1.9562484557381543},\n",
       "       {'mean': 0.5946274304715325, 'variance': 0.5925460639849386, 'skewness': 1.5327336281549613, 'kurtosis': 1.2262308478976571},\n",
       "       {'mean': 0.9541699837695242, 'variance': 1.017275759939186, 'skewness': 0.9021883028385449, 'kurtosis': -0.6575543286411936},\n",
       "       {'mean': 0.9098409301309602, 'variance': 1.1291214875861029, 'skewness': 0.9432801451364248, 'kurtosis': -0.6184021991384312},\n",
       "       {'mean': 0.6111907114716432, 'variance': 0.7261165180543575, 'skewness': 1.572515619323807, 'kurtosis': 0.8620546735061994},\n",
       "       {'mean': 0.7823105227153113, 'variance': 1.0539576436843416, 'skewness': 1.198810269940884, 'kurtosis': -0.036732208627587415},\n",
       "       {'mean': 1.112289126832713, 'variance': 1.3881671947530065, 'skewness': 0.7601689328171658, 'kurtosis': -0.9190513403986089},\n",
       "       {'mean': 0.828317500859791, 'variance': 0.9325736112563756, 'skewness': 1.2088073591020496, 'kurtosis': 0.21618744538315182},\n",
       "       {'mean': 0.8042390440853328, 'variance': 1.0954608357525262, 'skewness': 0.9062554553106963, 'kurtosis': -1.045656717245684}],\n",
       "      dtype=object)"
      ]
     },
     "execution_count": 18,
     "metadata": {},
     "output_type": "execute_result"
    }
   ],
   "source": [
    "def summary(s):\n",
    "    return {\"mean\": np.mean(s),\n",
    "            \"variance\": np.var(s),\n",
    "            \"skewness\": stats.skew(s),\n",
    "            \"kurtosis\": stats.kurtosis(s)}\n",
    "\n",
    "bootstrap.bootstrap(x, f=summary, b=10)"
   ]
  },
  {
   "cell_type": "markdown",
   "metadata": {},
   "source": [
    "#### Confidence intervals\n",
    "\n",
    "The `bootstrap_ci` function provides implementations of various methods for calculating bootstrap confidence intervals (e.g., percentile, BCA and bootstrap $t$).  All of the aforementioned modifications of the bootstrap can be specified inside `bootstrap_ci`."
   ]
  },
  {
   "cell_type": "code",
   "execution_count": 19,
   "metadata": {},
   "outputs": [
    {
     "data": {
      "text/plain": [
       "array([-1.34130709,  0.65746451, -1.10504139, -0.70281838,  0.4350093 ,\n",
       "       -0.31709184, -1.1083345 , -1.13869371,  0.14894305, -0.18849414,\n",
       "        0.03057568, -2.07607621, -0.69664239, -0.44723733,  1.17308762,\n",
       "       -0.60288907,  1.75598929,  1.33344285,  0.77342331, -0.38752787,\n",
       "        0.99086081,  1.15878957, -0.01711715, -0.1487852 , -0.50878266,\n",
       "        0.76808071, -0.51965996, -1.1715951 , -0.23220787, -1.09511025,\n",
       "        0.69823863, -0.46432918, -1.62431318, -0.49310971,  2.09751469,\n",
       "        0.04510386, -0.24631142, -0.3557414 ,  0.23967291,  0.95485223,\n",
       "        1.17513626,  0.07573048,  0.47096145, -1.74078851, -0.17848262,\n",
       "       -1.22330589, -1.66297884,  1.08596579, -0.58436759,  0.58537765])"
      ]
     },
     "execution_count": 19,
     "metadata": {},
     "output_type": "execute_result"
    }
   ],
   "source": [
    "x = np.random.randn(50)\n",
    "x"
   ]
  },
  {
   "cell_type": "markdown",
   "metadata": {},
   "source": [
    "The default is a percentile interval"
   ]
  },
  {
   "cell_type": "code",
   "execution_count": 20,
   "metadata": {},
   "outputs": [
    {
     "data": {
      "text/plain": [
       "(0.6448729795890057, 1.139318178768402)"
      ]
     },
     "execution_count": 20,
     "metadata": {},
     "output_type": "execute_result"
    }
   ],
   "source": [
    "bootstrap.bootstrap_ci(x, f=np.var)"
   ]
  },
  {
   "cell_type": "markdown",
   "metadata": {},
   "source": [
    "The `ci_method` argument controls the confidence interval method"
   ]
  },
  {
   "cell_type": "code",
   "execution_count": 21,
   "metadata": {},
   "outputs": [
    {
     "data": {
      "text/plain": [
       "(0.5921146724586261, 1.1849545999835576)"
      ]
     },
     "execution_count": 21,
     "metadata": {},
     "output_type": "execute_result"
    }
   ],
   "source": [
    "bootstrap.bootstrap_ci(x, f=np.var, b=10000, ci_method=\"percentile\")"
   ]
  },
  {
   "cell_type": "markdown",
   "metadata": {},
   "source": [
    "Bias-corrected and accelerated"
   ]
  },
  {
   "cell_type": "code",
   "execution_count": 22,
   "metadata": {},
   "outputs": [
    {
     "data": {
      "text/plain": [
       "(0.6939382149101426, 1.2277605498191648)"
      ]
     },
     "execution_count": 22,
     "metadata": {},
     "output_type": "execute_result"
    }
   ],
   "source": [
    "bootstrap.bootstrap_ci(x, f=np.var, b=10000, ci_method=\"bca\")"
   ]
  },
  {
   "cell_type": "markdown",
   "metadata": {},
   "source": [
    "Bootstrap $t$ (the Studentized bootstrap)"
   ]
  },
  {
   "cell_type": "code",
   "execution_count": 23,
   "metadata": {},
   "outputs": [
    {
     "data": {
      "text/plain": [
       "(0.6465280990433111, 1.146767913190762)"
      ]
     },
     "execution_count": 23,
     "metadata": {},
     "output_type": "execute_result"
    }
   ],
   "source": [
    "bootstrap.bootstrap_ci(x, f=np.var, b=10000, ci_method=\"t\")"
   ]
  },
  {
   "cell_type": "markdown",
   "metadata": {},
   "source": [
    "We can also use parametric sampling when constructing confidence intervals by setting `boot_method=\"parametric\"` and providing a distribution family.  This can sometimes improve efficiency if the underlying distribution is well-specified."
   ]
  },
  {
   "cell_type": "code",
   "execution_count": 24,
   "metadata": {},
   "outputs": [
    {
     "data": {
      "text/plain": [
       "(0.5952454601657426, 1.1795045558768664)"
      ]
     },
     "execution_count": 24,
     "metadata": {},
     "output_type": "execute_result"
    }
   ],
   "source": [
    "bootstrap.bootstrap_ci(x, f=np.var, b=10000, boot_method=\"parametric\", family=\"gaussian\", ci_method=\"t\")"
   ]
  },
  {
   "cell_type": "markdown",
   "metadata": {},
   "source": [
    "#### Tools for working with empirical distributions"
   ]
  },
  {
   "cell_type": "code",
   "execution_count": 25,
   "metadata": {},
   "outputs": [],
   "source": [
    "x = np.random.randn(10**4)"
   ]
  },
  {
   "cell_type": "markdown",
   "metadata": {},
   "source": [
    "`ecdf` returns the empirical cumulative distribution function of a sample $\\{ x_i \\}_{i=1}^{n}$\n",
    "\n",
    "$$\n",
    "\\hat{F}_n(s) = n^{-1} \\sum_{i=1}^{n} I(x_i \\leq s) .\n",
    "$$\n",
    "\n",
    "This represents the proportion of the sample less than or equal to $s$."
   ]
  },
  {
   "cell_type": "code",
   "execution_count": 26,
   "metadata": {},
   "outputs": [],
   "source": [
    "F = utils.ecdf(x)"
   ]
  },
  {
   "cell_type": "code",
   "execution_count": 27,
   "metadata": {},
   "outputs": [
    {
     "data": {
      "text/plain": [
       "0.1595"
      ]
     },
     "execution_count": 27,
     "metadata": {},
     "output_type": "execute_result"
    }
   ],
   "source": [
    "F(-1)"
   ]
  },
  {
   "cell_type": "code",
   "execution_count": 28,
   "metadata": {},
   "outputs": [
    {
     "data": {
      "text/plain": [
       "0.499"
      ]
     },
     "execution_count": 28,
     "metadata": {},
     "output_type": "execute_result"
    }
   ],
   "source": [
    "F(0)"
   ]
  },
  {
   "cell_type": "code",
   "execution_count": 29,
   "metadata": {},
   "outputs": [
    {
     "data": {
      "text/plain": [
       "0.8444"
      ]
     },
     "execution_count": 29,
     "metadata": {},
     "output_type": "execute_result"
    }
   ],
   "source": [
    "F(1)"
   ]
  },
  {
   "cell_type": "markdown",
   "metadata": {},
   "source": [
    "Once the function is created lookups are significantly faster than simply computing a direct average"
   ]
  },
  {
   "cell_type": "code",
   "execution_count": 30,
   "metadata": {},
   "outputs": [
    {
     "name": "stdout",
     "output_type": "stream",
     "text": [
      "1.8 µs ± 61.3 ns per loop (mean ± std. dev. of 7 runs, 1000000 loops each)\n"
     ]
    }
   ],
   "source": [
    "%timeit F(0)"
   ]
  },
  {
   "cell_type": "code",
   "execution_count": 31,
   "metadata": {},
   "outputs": [
    {
     "name": "stdout",
     "output_type": "stream",
     "text": [
      "35.5 µs ± 4.1 µs per loop (mean ± std. dev. of 7 runs, 10000 loops each)\n"
     ]
    }
   ],
   "source": [
    "%timeit np.mean(x <= 0)"
   ]
  },
  {
   "cell_type": "markdown",
   "metadata": {},
   "source": [
    "`eqf` returns the empirical quantile function\n",
    "\n",
    "$$\n",
    "\\hat{G}_n(p) = \\hat{F}_n^{-1}(p) ,\n",
    "$$\n",
    "\n",
    "or the inverse of `ecdf`.\n",
    "\n",
    "(This statement is not strictly speaking true since $\\hat{F}_n$ is not invertible.  To get around this we use linear interpolation between the observed sample points so that $\\hat{F}_n^{-1}$ is well-defined.  The result is that $\\hat{G}_n(p)$ is defined for all $p \\in [0, 1]$.)"
   ]
  },
  {
   "cell_type": "code",
   "execution_count": 32,
   "metadata": {},
   "outputs": [],
   "source": [
    "G = utils.eqf(x)"
   ]
  },
  {
   "cell_type": "code",
   "execution_count": 33,
   "metadata": {},
   "outputs": [
    {
     "data": {
      "text/plain": [
       "-0.6773708936666323"
      ]
     },
     "execution_count": 33,
     "metadata": {},
     "output_type": "execute_result"
    }
   ],
   "source": [
    "G(0.25)"
   ]
  },
  {
   "cell_type": "code",
   "execution_count": 34,
   "metadata": {},
   "outputs": [
    {
     "data": {
      "text/plain": [
       "0.0019935824185417367"
      ]
     },
     "execution_count": 34,
     "metadata": {},
     "output_type": "execute_result"
    }
   ],
   "source": [
    "G(0.5)"
   ]
  },
  {
   "cell_type": "code",
   "execution_count": 35,
   "metadata": {},
   "outputs": [
    {
     "data": {
      "text/plain": [
       "0.6503572765586797"
      ]
     },
     "execution_count": 35,
     "metadata": {},
     "output_type": "execute_result"
    }
   ],
   "source": [
    "G(0.75)"
   ]
  },
  {
   "cell_type": "markdown",
   "metadata": {},
   "source": [
    "## Boston Housing Example"
   ]
  },
  {
   "cell_type": "code",
   "execution_count": 36,
   "metadata": {},
   "outputs": [
    {
     "name": "stdout",
     "output_type": "stream",
     "text": [
      "Boston House Prices dataset\n",
      "===========================\n",
      "\n",
      "Notes\n",
      "------\n",
      "Data Set Characteristics:  \n",
      "\n",
      "    :Number of Instances: 506 \n",
      "\n",
      "    :Number of Attributes: 13 numeric/categorical predictive\n",
      "    \n",
      "    :Median Value (attribute 14) is usually the target\n",
      "\n",
      "    :Attribute Information (in order):\n",
      "        - CRIM     per capita crime rate by town\n",
      "        - ZN       proportion of residential land zoned for lots over 25,000 sq.ft.\n",
      "        - INDUS    proportion of non-retail business acres per town\n",
      "        - CHAS     Charles River dummy variable (= 1 if tract bounds river; 0 otherwise)\n",
      "        - NOX      nitric oxides concentration (parts per 10 million)\n",
      "        - RM       average number of rooms per dwelling\n",
      "        - AGE      proportion of owner-occupied units built prior to 1940\n",
      "        - DIS      weighted distances to five Boston employment centres\n",
      "        - RAD      index of accessibility to radial highways\n",
      "        - TAX      full-value property-tax rate per $10,000\n",
      "        - PTRATIO  pupil-teacher ratio by town\n",
      "        - B        1000(Bk - 0.63)^2 where Bk is the proportion of blacks by town\n",
      "        - LSTAT    % lower status of the population\n",
      "        - MEDV     Median value of owner-occupied homes in $1000's\n",
      "\n",
      "    :Missing Attribute Values: None\n",
      "\n",
      "    :Creator: Harrison, D. and Rubinfeld, D.L.\n",
      "\n",
      "This is a copy of UCI ML housing dataset.\n",
      "http://archive.ics.uci.edu/ml/datasets/Housing\n",
      "\n",
      "\n",
      "This dataset was taken from the StatLib library which is maintained at Carnegie Mellon University.\n",
      "\n",
      "The Boston house-price data of Harrison, D. and Rubinfeld, D.L. 'Hedonic\n",
      "prices and the demand for clean air', J. Environ. Economics & Management,\n",
      "vol.5, 81-102, 1978.   Used in Belsley, Kuh & Welsch, 'Regression diagnostics\n",
      "...', Wiley, 1980.   N.B. Various transformations are used in the table on\n",
      "pages 244-261 of the latter.\n",
      "\n",
      "The Boston house-price data has been used in many machine learning papers that address regression\n",
      "problems.   \n",
      "     \n",
      "**References**\n",
      "\n",
      "   - Belsley, Kuh & Welsch, 'Regression diagnostics: Identifying Influential Data and Sources of Collinearity', Wiley, 1980. 244-261.\n",
      "   - Quinlan,R. (1993). Combining Instance-Based and Model-Based Learning. In Proceedings on the Tenth International Conference of Machine Learning, 236-243, University of Massachusetts, Amherst. Morgan Kaufmann.\n",
      "   - many more! (see http://archive.ics.uci.edu/ml/datasets/Housing)\n",
      "\n"
     ]
    }
   ],
   "source": [
    "bost = load_boston()\n",
    "print(bost[\"DESCR\"])"
   ]
  },
  {
   "cell_type": "code",
   "execution_count": 37,
   "metadata": {},
   "outputs": [
    {
     "data": {
      "text/html": [
       "<div>\n",
       "<style scoped>\n",
       "    .dataframe tbody tr th:only-of-type {\n",
       "        vertical-align: middle;\n",
       "    }\n",
       "\n",
       "    .dataframe tbody tr th {\n",
       "        vertical-align: top;\n",
       "    }\n",
       "\n",
       "    .dataframe thead th {\n",
       "        text-align: right;\n",
       "    }\n",
       "</style>\n",
       "<table border=\"1\" class=\"dataframe\">\n",
       "  <thead>\n",
       "    <tr style=\"text-align: right;\">\n",
       "      <th></th>\n",
       "      <th>CRIM</th>\n",
       "      <th>ZN</th>\n",
       "      <th>INDUS</th>\n",
       "      <th>CHAS</th>\n",
       "      <th>NOX</th>\n",
       "      <th>RM</th>\n",
       "      <th>AGE</th>\n",
       "      <th>DIS</th>\n",
       "      <th>RAD</th>\n",
       "      <th>TAX</th>\n",
       "      <th>PTRATIO</th>\n",
       "      <th>B</th>\n",
       "      <th>LSTAT</th>\n",
       "    </tr>\n",
       "  </thead>\n",
       "  <tbody>\n",
       "    <tr>\n",
       "      <th>0</th>\n",
       "      <td>0.00632</td>\n",
       "      <td>18.0</td>\n",
       "      <td>2.31</td>\n",
       "      <td>0.0</td>\n",
       "      <td>0.538</td>\n",
       "      <td>6.575</td>\n",
       "      <td>65.2</td>\n",
       "      <td>4.0900</td>\n",
       "      <td>1.0</td>\n",
       "      <td>296.0</td>\n",
       "      <td>15.3</td>\n",
       "      <td>396.90</td>\n",
       "      <td>4.98</td>\n",
       "    </tr>\n",
       "    <tr>\n",
       "      <th>1</th>\n",
       "      <td>0.02731</td>\n",
       "      <td>0.0</td>\n",
       "      <td>7.07</td>\n",
       "      <td>0.0</td>\n",
       "      <td>0.469</td>\n",
       "      <td>6.421</td>\n",
       "      <td>78.9</td>\n",
       "      <td>4.9671</td>\n",
       "      <td>2.0</td>\n",
       "      <td>242.0</td>\n",
       "      <td>17.8</td>\n",
       "      <td>396.90</td>\n",
       "      <td>9.14</td>\n",
       "    </tr>\n",
       "    <tr>\n",
       "      <th>2</th>\n",
       "      <td>0.02729</td>\n",
       "      <td>0.0</td>\n",
       "      <td>7.07</td>\n",
       "      <td>0.0</td>\n",
       "      <td>0.469</td>\n",
       "      <td>7.185</td>\n",
       "      <td>61.1</td>\n",
       "      <td>4.9671</td>\n",
       "      <td>2.0</td>\n",
       "      <td>242.0</td>\n",
       "      <td>17.8</td>\n",
       "      <td>392.83</td>\n",
       "      <td>4.03</td>\n",
       "    </tr>\n",
       "    <tr>\n",
       "      <th>3</th>\n",
       "      <td>0.03237</td>\n",
       "      <td>0.0</td>\n",
       "      <td>2.18</td>\n",
       "      <td>0.0</td>\n",
       "      <td>0.458</td>\n",
       "      <td>6.998</td>\n",
       "      <td>45.8</td>\n",
       "      <td>6.0622</td>\n",
       "      <td>3.0</td>\n",
       "      <td>222.0</td>\n",
       "      <td>18.7</td>\n",
       "      <td>394.63</td>\n",
       "      <td>2.94</td>\n",
       "    </tr>\n",
       "    <tr>\n",
       "      <th>4</th>\n",
       "      <td>0.06905</td>\n",
       "      <td>0.0</td>\n",
       "      <td>2.18</td>\n",
       "      <td>0.0</td>\n",
       "      <td>0.458</td>\n",
       "      <td>7.147</td>\n",
       "      <td>54.2</td>\n",
       "      <td>6.0622</td>\n",
       "      <td>3.0</td>\n",
       "      <td>222.0</td>\n",
       "      <td>18.7</td>\n",
       "      <td>396.90</td>\n",
       "      <td>5.33</td>\n",
       "    </tr>\n",
       "  </tbody>\n",
       "</table>\n",
       "</div>"
      ],
      "text/plain": [
       "      CRIM    ZN  INDUS  CHAS    NOX     RM   AGE     DIS  RAD    TAX  \\\n",
       "0  0.00632  18.0   2.31   0.0  0.538  6.575  65.2  4.0900  1.0  296.0   \n",
       "1  0.02731   0.0   7.07   0.0  0.469  6.421  78.9  4.9671  2.0  242.0   \n",
       "2  0.02729   0.0   7.07   0.0  0.469  7.185  61.1  4.9671  2.0  242.0   \n",
       "3  0.03237   0.0   2.18   0.0  0.458  6.998  45.8  6.0622  3.0  222.0   \n",
       "4  0.06905   0.0   2.18   0.0  0.458  7.147  54.2  6.0622  3.0  222.0   \n",
       "\n",
       "   PTRATIO       B  LSTAT  \n",
       "0     15.3  396.90   4.98  \n",
       "1     17.8  396.90   9.14  \n",
       "2     17.8  392.83   4.03  \n",
       "3     18.7  394.63   2.94  \n",
       "4     18.7  396.90   5.33  "
      ]
     },
     "execution_count": 37,
     "metadata": {},
     "output_type": "execute_result"
    }
   ],
   "source": [
    "df = pd.DataFrame(bost[\"data\"], columns=bost[\"feature_names\"])\n",
    "df.head()"
   ]
  },
  {
   "cell_type": "markdown",
   "metadata": {},
   "source": [
    "Take the natural logarithm of the median sales price"
   ]
  },
  {
   "cell_type": "code",
   "execution_count": 38,
   "metadata": {},
   "outputs": [
    {
     "data": {
      "text/plain": [
       "0    3.178054\n",
       "1    3.072693\n",
       "2    3.546740\n",
       "3    3.508556\n",
       "4    3.589059\n",
       "Name: target, dtype: float64"
      ]
     },
     "execution_count": 38,
     "metadata": {},
     "output_type": "execute_result"
    }
   ],
   "source": [
    "y = pd.Series(np.log(bost[\"target\"]), name=\"target\")\n",
    "y.head()"
   ]
  },
  {
   "cell_type": "markdown",
   "metadata": {},
   "source": [
    "Use `corr_test` to test the significance of the correlation coefficients.  We see that all the correlations are highly significant since they lie at the extremes of their respective permutation distributions."
   ]
  },
  {
   "cell_type": "code",
   "execution_count": 39,
   "metadata": {},
   "outputs": [
    {
     "data": {
      "text/html": [
       "<div>\n",
       "<style scoped>\n",
       "    .dataframe tbody tr th:only-of-type {\n",
       "        vertical-align: middle;\n",
       "    }\n",
       "\n",
       "    .dataframe tbody tr th {\n",
       "        vertical-align: top;\n",
       "    }\n",
       "\n",
       "    .dataframe thead th {\n",
       "        text-align: right;\n",
       "    }\n",
       "</style>\n",
       "<table border=\"1\" class=\"dataframe\">\n",
       "  <thead>\n",
       "    <tr style=\"text-align: right;\">\n",
       "      <th></th>\n",
       "      <th>c</th>\n",
       "      <th>prop</th>\n",
       "    </tr>\n",
       "  </thead>\n",
       "  <tbody>\n",
       "    <tr>\n",
       "      <th>CRIM</th>\n",
       "      <td>-0.525047</td>\n",
       "      <td>0.0</td>\n",
       "    </tr>\n",
       "    <tr>\n",
       "      <th>ZN</th>\n",
       "      <td>0.363344</td>\n",
       "      <td>1.0</td>\n",
       "    </tr>\n",
       "    <tr>\n",
       "      <th>INDUS</th>\n",
       "      <td>-0.541556</td>\n",
       "      <td>0.0</td>\n",
       "    </tr>\n",
       "    <tr>\n",
       "      <th>CHAS</th>\n",
       "      <td>0.158412</td>\n",
       "      <td>1.0</td>\n",
       "    </tr>\n",
       "    <tr>\n",
       "      <th>NOX</th>\n",
       "      <td>-0.510600</td>\n",
       "      <td>0.0</td>\n",
       "    </tr>\n",
       "    <tr>\n",
       "      <th>RM</th>\n",
       "      <td>0.632021</td>\n",
       "      <td>1.0</td>\n",
       "    </tr>\n",
       "    <tr>\n",
       "      <th>AGE</th>\n",
       "      <td>-0.453422</td>\n",
       "      <td>0.0</td>\n",
       "    </tr>\n",
       "    <tr>\n",
       "      <th>DIS</th>\n",
       "      <td>0.342780</td>\n",
       "      <td>1.0</td>\n",
       "    </tr>\n",
       "    <tr>\n",
       "      <th>RAD</th>\n",
       "      <td>-0.481971</td>\n",
       "      <td>0.0</td>\n",
       "    </tr>\n",
       "    <tr>\n",
       "      <th>TAX</th>\n",
       "      <td>-0.561466</td>\n",
       "      <td>0.0</td>\n",
       "    </tr>\n",
       "    <tr>\n",
       "      <th>PTRATIO</th>\n",
       "      <td>-0.501729</td>\n",
       "      <td>0.0</td>\n",
       "    </tr>\n",
       "    <tr>\n",
       "      <th>B</th>\n",
       "      <td>0.402382</td>\n",
       "      <td>1.0</td>\n",
       "    </tr>\n",
       "    <tr>\n",
       "      <th>LSTAT</th>\n",
       "      <td>-0.805034</td>\n",
       "      <td>0.0</td>\n",
       "    </tr>\n",
       "  </tbody>\n",
       "</table>\n",
       "</div>"
      ],
      "text/plain": [
       "                c  prop\n",
       "CRIM    -0.525047   0.0\n",
       "ZN       0.363344   1.0\n",
       "INDUS   -0.541556   0.0\n",
       "CHAS     0.158412   1.0\n",
       "NOX     -0.510600   0.0\n",
       "RM       0.632021   1.0\n",
       "AGE     -0.453422   0.0\n",
       "DIS      0.342780   1.0\n",
       "RAD     -0.481971   0.0\n",
       "TAX     -0.561466   0.0\n",
       "PTRATIO -0.501729   0.0\n",
       "B        0.402382   1.0\n",
       "LSTAT   -0.805034   0.0"
      ]
     },
     "execution_count": 39,
     "metadata": {},
     "output_type": "execute_result"
    }
   ],
   "source": [
    "df.apply(lambda x: pd.Series(permutation.corr_test(x.values, y.values, b=1000))).T"
   ]
  },
  {
   "cell_type": "markdown",
   "metadata": {},
   "source": [
    "Use `ttest` to determine if properties along the Charles River are more expensive"
   ]
  },
  {
   "cell_type": "code",
   "execution_count": 40,
   "metadata": {},
   "outputs": [
    {
     "data": {
      "text/plain": [
       "{'t': 3.7440239305494125, 'prop': 0.999}"
      ]
     },
     "execution_count": 40,
     "metadata": {},
     "output_type": "execute_result"
    }
   ],
   "source": [
    "permutation.ttest(y[df[\"CHAS\"] == 1], y[df[\"CHAS\"] == 0], b=1000)"
   ]
  },
  {
   "cell_type": "markdown",
   "metadata": {},
   "source": [
    "`wilcoxon` can be used to test the same hypothesis"
   ]
  },
  {
   "cell_type": "code",
   "execution_count": 41,
   "metadata": {},
   "outputs": [
    {
     "data": {
      "text/plain": [
       "{'w': 11509.5, 'prop': 1.0}"
      ]
     },
     "execution_count": 41,
     "metadata": {},
     "output_type": "execute_result"
    }
   ],
   "source": [
    "permutation.wilcoxon(y[df[\"CHAS\"] == 1], y[df[\"CHAS\"] == 0], b=1000)"
   ]
  },
  {
   "cell_type": "markdown",
   "metadata": {},
   "source": [
    "Load linear model libraries"
   ]
  },
  {
   "cell_type": "code",
   "execution_count": 42,
   "metadata": {},
   "outputs": [],
   "source": [
    "from sklearn.preprocessing import StandardScaler\n",
    "from sklearn.linear_model import LinearRegression\n",
    "from sklearn.model_selection import cross_val_predict"
   ]
  },
  {
   "cell_type": "markdown",
   "metadata": {},
   "source": [
    "Here we define a function `fitreg` which takes a matrix `A` that contains both predictors and a response variable and returns the least squares coefficients of the predictors along with an intercept.  Note how the standardization is actually performed *inside* the function.  This means that the measures of center and scale (which are in fact model parameters) are estimated at every iteration, and so any variation in the coefficients that is induced by this process can be accounted-for by the bootstrapping procedure.  In theory a full modeling workflow can be defined as a function which can then be bootstrapped."
   ]
  },
  {
   "cell_type": "code",
   "execution_count": 43,
   "metadata": {},
   "outputs": [],
   "source": [
    "def fitreg(A):\n",
    "    scale = StandardScaler()\n",
    "    reg = LinearRegression(fit_intercept=True)\n",
    "    X_scale = scale.fit_transform(A[:, :A.shape[1]-1])\n",
    "    y = A[:, A.shape[1]-1]\n",
    "    reg.fit(X_scale, y)\n",
    "    return {\"coef\": reg.coef_, \"intercept\": reg.intercept_}"
   ]
  },
  {
   "cell_type": "markdown",
   "metadata": {},
   "source": [
    "Apply the function to 5,000 bootstrap copies of the Boston housing data.  The output is an array of dictionaries containing the coefficients and intercept for each data set.  We then wrap this array into a `pandas` `DataFrame`."
   ]
  },
  {
   "cell_type": "code",
   "execution_count": 44,
   "metadata": {},
   "outputs": [
    {
     "data": {
      "text/plain": [
       "array([{'coef': array([-0.09610268,  0.03760071, -0.00465631,  0.00774463, -0.0888648 ,\n",
       "        0.04264013,  0.01922506, -0.09938824,  0.14553338, -0.09193931,\n",
       "       -0.09980504,  0.03777399, -0.20136582]), 'intercept': 3.0545923288410677},\n",
       "       {'coef': array([-0.09118513,  0.04179017,  0.02338962,  0.02744276, -0.07941048,\n",
       "        0.06186085,  0.01925847, -0.09856725,  0.12364576, -0.110764  ,\n",
       "       -0.07285115,  0.05717007, -0.23115741]), 'intercept': 3.017589065425159},\n",
       "       {'coef': array([-0.09954176,  0.00404258,  0.01972887,  0.00906234, -0.10069855,\n",
       "        0.10005311, -0.01532174, -0.08651794,  0.11511014, -0.11192811,\n",
       "       -0.11294447,  0.02375922, -0.14397285]), 'intercept': 3.0442654902297277}],\n",
       "      dtype=object)"
      ]
     },
     "execution_count": 44,
     "metadata": {},
     "output_type": "execute_result"
    }
   ],
   "source": [
    "boot_coef = bootstrap.bootstrap(a=df.join(y).values, f=fitreg, b=5000)\n",
    "boot_coef[:3]"
   ]
  },
  {
   "cell_type": "code",
   "execution_count": 45,
   "metadata": {},
   "outputs": [
    {
     "data": {
      "text/html": [
       "<div>\n",
       "<style scoped>\n",
       "    .dataframe tbody tr th:only-of-type {\n",
       "        vertical-align: middle;\n",
       "    }\n",
       "\n",
       "    .dataframe tbody tr th {\n",
       "        vertical-align: top;\n",
       "    }\n",
       "\n",
       "    .dataframe thead th {\n",
       "        text-align: right;\n",
       "    }\n",
       "</style>\n",
       "<table border=\"1\" class=\"dataframe\">\n",
       "  <thead>\n",
       "    <tr style=\"text-align: right;\">\n",
       "      <th></th>\n",
       "      <th>coef</th>\n",
       "      <th>intercept</th>\n",
       "    </tr>\n",
       "  </thead>\n",
       "  <tbody>\n",
       "    <tr>\n",
       "      <th>0</th>\n",
       "      <td>[-0.09610267833520157, 0.03760070560045327, -0...</td>\n",
       "      <td>3.054592</td>\n",
       "    </tr>\n",
       "    <tr>\n",
       "      <th>1</th>\n",
       "      <td>[-0.09118512520364805, 0.04179016930831231, 0....</td>\n",
       "      <td>3.017589</td>\n",
       "    </tr>\n",
       "    <tr>\n",
       "      <th>2</th>\n",
       "      <td>[-0.09954176301933185, 0.004042579018443254, 0...</td>\n",
       "      <td>3.044265</td>\n",
       "    </tr>\n",
       "    <tr>\n",
       "      <th>3</th>\n",
       "      <td>[-0.10826769595447625, 0.018803456830247256, 0...</td>\n",
       "      <td>3.012401</td>\n",
       "    </tr>\n",
       "    <tr>\n",
       "      <th>4</th>\n",
       "      <td>[-0.040687100626123525, 0.03472567445108928, 0...</td>\n",
       "      <td>3.039562</td>\n",
       "    </tr>\n",
       "  </tbody>\n",
       "</table>\n",
       "</div>"
      ],
      "text/plain": [
       "                                                coef  intercept\n",
       "0  [-0.09610267833520157, 0.03760070560045327, -0...   3.054592\n",
       "1  [-0.09118512520364805, 0.04179016930831231, 0....   3.017589\n",
       "2  [-0.09954176301933185, 0.004042579018443254, 0...   3.044265\n",
       "3  [-0.10826769595447625, 0.018803456830247256, 0...   3.012401\n",
       "4  [-0.040687100626123525, 0.03472567445108928, 0...   3.039562"
      ]
     },
     "execution_count": 45,
     "metadata": {},
     "output_type": "execute_result"
    }
   ],
   "source": [
    "param_frame = pd.DataFrame([pd.Series(x) for x in boot_coef])\n",
    "param_frame.head()"
   ]
  },
  {
   "cell_type": "markdown",
   "metadata": {},
   "source": [
    "Extract the coefficients for the `CRIM` variable and plot the distribution"
   ]
  },
  {
   "cell_type": "code",
   "execution_count": 46,
   "metadata": {},
   "outputs": [],
   "source": [
    "crim_coef = param_frame[\"coef\"].map(lambda x: x[0])"
   ]
  },
  {
   "cell_type": "code",
   "execution_count": 47,
   "metadata": {},
   "outputs": [
    {
     "data": {
      "text/plain": [
       "<matplotlib.axes._subplots.AxesSubplot at 0x10934e2e8>"
      ]
     },
     "execution_count": 47,
     "metadata": {},
     "output_type": "execute_result"
    },
    {
     "data": {
      "image/png": "[encoded data removed]",
      "text/plain": [
       "<Figure size 432x288 with 1 Axes>"
      ]
     },
     "metadata": {},
     "output_type": "display_data"
    }
   ],
   "source": [
    "sns.distplot(crim_coef, hist=False)"
   ]
  },
  {
   "cell_type": "markdown",
   "metadata": {},
   "source": [
    "Extract endpoints of percentile bootstrap confidence interval"
   ]
  },
  {
   "cell_type": "code",
   "execution_count": 48,
   "metadata": {},
   "outputs": [],
   "source": [
    "q = utils.eqf(crim_coef)"
   ]
  },
  {
   "cell_type": "code",
   "execution_count": 49,
   "metadata": {},
   "outputs": [
    {
     "data": {
      "text/plain": [
       "(-0.12454033635405119, -0.053807471293651155)"
      ]
     },
     "execution_count": 49,
     "metadata": {},
     "output_type": "execute_result"
    }
   ],
   "source": [
    "(q(0.025), q(0.975))"
   ]
  },
  {
   "cell_type": "markdown",
   "metadata": {},
   "source": [
    "Bootstrap confidence interval of correlation coefficient between `CRIM` and `target`.  This gives us a plausible range for the true correlation between these two quantities."
   ]
  },
  {
   "cell_type": "code",
   "execution_count": 50,
   "metadata": {},
   "outputs": [
    {
     "data": {
      "text/plain": [
       "(-0.6060704977512968, -0.45460880696613404)"
      ]
     },
     "execution_count": 50,
     "metadata": {},
     "output_type": "execute_result"
    }
   ],
   "source": [
    "bootstrap.bootstrap_ci(a=df[[\"CRIM\"]].join(y).values,\n",
    "                       f=lambda x: np.corrcoef(x[:, 0], x[:, 1])[0, 1],\n",
    "                       p=0.95,\n",
    "                       b=10000,\n",
    "                       ci_method=\"percentile\")"
   ]
  },
  {
   "cell_type": "markdown",
   "metadata": {},
   "source": [
    "#### Bootstrapped predictions"
   ]
  },
  {
   "cell_type": "markdown",
   "metadata": {},
   "source": [
    "Alternatively, instead of returning model parameters we might wish to return the fitted models themselves and generate bootstrapped predictions.  Here we define a function that fits and returns a GBM model given a set of predictors and a response variable, and then apply this function to 500 bootstrap samples."
   ]
  },
  {
   "cell_type": "code",
   "execution_count": 51,
   "metadata": {},
   "outputs": [],
   "source": [
    "import lightgbm as lgb\n",
    "\n",
    "def fitgbm(A):\n",
    "    reg = lgb.LGBMRegressor()\n",
    "    X = A[:, :A.shape[1]-1]\n",
    "    y = A[:, A.shape[1]-1]\n",
    "    reg.fit(X, y)\n",
    "    return reg"
   ]
  },
  {
   "cell_type": "code",
   "execution_count": 52,
   "metadata": {},
   "outputs": [
    {
     "data": {
      "text/html": [
       "<div>\n",
       "<style scoped>\n",
       "    .dataframe tbody tr th:only-of-type {\n",
       "        vertical-align: middle;\n",
       "    }\n",
       "\n",
       "    .dataframe tbody tr th {\n",
       "        vertical-align: top;\n",
       "    }\n",
       "\n",
       "    .dataframe thead th {\n",
       "        text-align: right;\n",
       "    }\n",
       "</style>\n",
       "<table border=\"1\" class=\"dataframe\">\n",
       "  <thead>\n",
       "    <tr style=\"text-align: right;\">\n",
       "      <th></th>\n",
       "      <th>0</th>\n",
       "      <th>1</th>\n",
       "      <th>2</th>\n",
       "      <th>3</th>\n",
       "      <th>4</th>\n",
       "      <th>5</th>\n",
       "      <th>6</th>\n",
       "      <th>7</th>\n",
       "      <th>8</th>\n",
       "      <th>9</th>\n",
       "      <th>...</th>\n",
       "      <th>496</th>\n",
       "      <th>497</th>\n",
       "      <th>498</th>\n",
       "      <th>499</th>\n",
       "      <th>500</th>\n",
       "      <th>501</th>\n",
       "      <th>502</th>\n",
       "      <th>503</th>\n",
       "      <th>504</th>\n",
       "      <th>505</th>\n",
       "    </tr>\n",
       "  </thead>\n",
       "  <tbody>\n",
       "    <tr>\n",
       "      <th>0</th>\n",
       "      <td>3.204253</td>\n",
       "      <td>3.176382</td>\n",
       "      <td>3.492695</td>\n",
       "      <td>3.556317</td>\n",
       "      <td>3.580225</td>\n",
       "      <td>3.361058</td>\n",
       "      <td>3.123022</td>\n",
       "      <td>2.900984</td>\n",
       "      <td>2.715253</td>\n",
       "      <td>2.933385</td>\n",
       "      <td>...</td>\n",
       "      <td>2.980104</td>\n",
       "      <td>2.983533</td>\n",
       "      <td>3.054044</td>\n",
       "      <td>2.875327</td>\n",
       "      <td>2.928048</td>\n",
       "      <td>3.110550</td>\n",
       "      <td>3.042151</td>\n",
       "      <td>3.186366</td>\n",
       "      <td>3.221590</td>\n",
       "      <td>3.039701</td>\n",
       "    </tr>\n",
       "    <tr>\n",
       "      <th>1</th>\n",
       "      <td>3.173298</td>\n",
       "      <td>3.067583</td>\n",
       "      <td>3.541344</td>\n",
       "      <td>3.522031</td>\n",
       "      <td>3.580424</td>\n",
       "      <td>3.354297</td>\n",
       "      <td>3.113779</td>\n",
       "      <td>3.245537</td>\n",
       "      <td>2.794211</td>\n",
       "      <td>2.983234</td>\n",
       "      <td>...</td>\n",
       "      <td>2.878256</td>\n",
       "      <td>2.940493</td>\n",
       "      <td>3.055457</td>\n",
       "      <td>2.889276</td>\n",
       "      <td>2.855880</td>\n",
       "      <td>3.106641</td>\n",
       "      <td>2.948304</td>\n",
       "      <td>3.163318</td>\n",
       "      <td>3.094978</td>\n",
       "      <td>2.637999</td>\n",
       "    </tr>\n",
       "    <tr>\n",
       "      <th>2</th>\n",
       "      <td>3.188192</td>\n",
       "      <td>3.052024</td>\n",
       "      <td>3.566295</td>\n",
       "      <td>3.555049</td>\n",
       "      <td>3.553583</td>\n",
       "      <td>3.322271</td>\n",
       "      <td>3.056629</td>\n",
       "      <td>3.269005</td>\n",
       "      <td>2.703199</td>\n",
       "      <td>3.007792</td>\n",
       "      <td>...</td>\n",
       "      <td>2.967325</td>\n",
       "      <td>3.029926</td>\n",
       "      <td>3.056210</td>\n",
       "      <td>2.909825</td>\n",
       "      <td>2.860289</td>\n",
       "      <td>3.124206</td>\n",
       "      <td>3.013676</td>\n",
       "      <td>3.237459</td>\n",
       "      <td>3.106869</td>\n",
       "      <td>2.965421</td>\n",
       "    </tr>\n",
       "    <tr>\n",
       "      <th>3</th>\n",
       "      <td>3.165726</td>\n",
       "      <td>3.107700</td>\n",
       "      <td>3.590230</td>\n",
       "      <td>3.529586</td>\n",
       "      <td>3.614922</td>\n",
       "      <td>3.346069</td>\n",
       "      <td>2.992947</td>\n",
       "      <td>2.787250</td>\n",
       "      <td>2.730891</td>\n",
       "      <td>2.928403</td>\n",
       "      <td>...</td>\n",
       "      <td>2.983362</td>\n",
       "      <td>2.921661</td>\n",
       "      <td>3.010462</td>\n",
       "      <td>2.886175</td>\n",
       "      <td>2.838943</td>\n",
       "      <td>3.115836</td>\n",
       "      <td>2.974184</td>\n",
       "      <td>3.193135</td>\n",
       "      <td>3.154585</td>\n",
       "      <td>2.566869</td>\n",
       "    </tr>\n",
       "    <tr>\n",
       "      <th>4</th>\n",
       "      <td>3.189490</td>\n",
       "      <td>3.048444</td>\n",
       "      <td>3.533428</td>\n",
       "      <td>3.529594</td>\n",
       "      <td>3.526854</td>\n",
       "      <td>3.310840</td>\n",
       "      <td>3.114443</td>\n",
       "      <td>2.866938</td>\n",
       "      <td>2.799719</td>\n",
       "      <td>2.942670</td>\n",
       "      <td>...</td>\n",
       "      <td>2.957713</td>\n",
       "      <td>2.971796</td>\n",
       "      <td>3.155298</td>\n",
       "      <td>2.890125</td>\n",
       "      <td>3.095590</td>\n",
       "      <td>3.101848</td>\n",
       "      <td>3.084078</td>\n",
       "      <td>3.177187</td>\n",
       "      <td>3.094126</td>\n",
       "      <td>3.103835</td>\n",
       "    </tr>\n",
       "  </tbody>\n",
       "</table>\n",
       "<p>5 rows × 506 columns</p>\n",
       "</div>"
      ],
      "text/plain": [
       "        0         1         2         3         4         5         6    \\\n",
       "0  3.204253  3.176382  3.492695  3.556317  3.580225  3.361058  3.123022   \n",
       "1  3.173298  3.067583  3.541344  3.522031  3.580424  3.354297  3.113779   \n",
       "2  3.188192  3.052024  3.566295  3.555049  3.553583  3.322271  3.056629   \n",
       "3  3.165726  3.107700  3.590230  3.529586  3.614922  3.346069  2.992947   \n",
       "4  3.189490  3.048444  3.533428  3.529594  3.526854  3.310840  3.114443   \n",
       "\n",
       "        7         8         9      ...          496       497       498  \\\n",
       "0  2.900984  2.715253  2.933385    ...     2.980104  2.983533  3.054044   \n",
       "1  3.245537  2.794211  2.983234    ...     2.878256  2.940493  3.055457   \n",
       "2  3.269005  2.703199  3.007792    ...     2.967325  3.029926  3.056210   \n",
       "3  2.787250  2.730891  2.928403    ...     2.983362  2.921661  3.010462   \n",
       "4  2.866938  2.799719  2.942670    ...     2.957713  2.971796  3.155298   \n",
       "\n",
       "        499       500       501       502       503       504       505  \n",
       "0  2.875327  2.928048  3.110550  3.042151  3.186366  3.221590  3.039701  \n",
       "1  2.889276  2.855880  3.106641  2.948304  3.163318  3.094978  2.637999  \n",
       "2  2.909825  2.860289  3.124206  3.013676  3.237459  3.106869  2.965421  \n",
       "3  2.886175  2.838943  3.115836  2.974184  3.193135  3.154585  2.566869  \n",
       "4  2.890125  3.095590  3.101848  3.084078  3.177187  3.094126  3.103835  \n",
       "\n",
       "[5 rows x 506 columns]"
      ]
     },
     "execution_count": 52,
     "metadata": {},
     "output_type": "execute_result"
    }
   ],
   "source": [
    "boot_mod = bootstrap.bootstrap(a=df.join(y).values, f=fitgbm, b=500)\n",
    "boot_pred = pd.DataFrame(np.asarray([m.predict(df.values) for m in boot_mod]))\n",
    "boot_pred.head()"
   ]
  },
  {
   "cell_type": "code",
   "execution_count": 53,
   "metadata": {},
   "outputs": [
    {
     "data": {
      "text/plain": [
       "(500, 506)"
      ]
     },
     "execution_count": 53,
     "metadata": {},
     "output_type": "execute_result"
    }
   ],
   "source": [
    "boot_pred.shape"
   ]
  },
  {
   "cell_type": "markdown",
   "metadata": {},
   "source": [
    "Calculate standard deviations of bootstrapped predictions"
   ]
  },
  {
   "cell_type": "code",
   "execution_count": 54,
   "metadata": {},
   "outputs": [],
   "source": [
    "pred_std = boot_pred.apply(np.std).sort_values(ascending=False)"
   ]
  },
  {
   "cell_type": "markdown",
   "metadata": {},
   "source": [
    "Rows with the most variation in the bootstrapped predictions.  The values of these attributes seem to lie along the extremes of their respective distributions, which makes intuitive sense as the model should be least confident of predictions made along the periphery of the training data."
   ]
  },
  {
   "cell_type": "code",
   "execution_count": 55,
   "metadata": {},
   "outputs": [
    {
     "data": {
      "text/html": [
       "<div>\n",
       "<style scoped>\n",
       "    .dataframe tbody tr th:only-of-type {\n",
       "        vertical-align: middle;\n",
       "    }\n",
       "\n",
       "    .dataframe tbody tr th {\n",
       "        vertical-align: top;\n",
       "    }\n",
       "\n",
       "    .dataframe thead th {\n",
       "        text-align: right;\n",
       "    }\n",
       "</style>\n",
       "<table border=\"1\" class=\"dataframe\">\n",
       "  <thead>\n",
       "    <tr style=\"text-align: right;\">\n",
       "      <th></th>\n",
       "      <th>CRIM</th>\n",
       "      <th>ZN</th>\n",
       "      <th>INDUS</th>\n",
       "      <th>CHAS</th>\n",
       "      <th>NOX</th>\n",
       "      <th>RM</th>\n",
       "      <th>AGE</th>\n",
       "      <th>DIS</th>\n",
       "      <th>RAD</th>\n",
       "      <th>TAX</th>\n",
       "      <th>PTRATIO</th>\n",
       "      <th>B</th>\n",
       "      <th>LSTAT</th>\n",
       "    </tr>\n",
       "  </thead>\n",
       "  <tbody>\n",
       "    <tr>\n",
       "      <th>364</th>\n",
       "      <td>3.47428</td>\n",
       "      <td>0.0</td>\n",
       "      <td>18.10</td>\n",
       "      <td>1.0</td>\n",
       "      <td>0.718</td>\n",
       "      <td>8.780</td>\n",
       "      <td>82.9</td>\n",
       "      <td>1.9047</td>\n",
       "      <td>24.0</td>\n",
       "      <td>666.0</td>\n",
       "      <td>20.2</td>\n",
       "      <td>354.55</td>\n",
       "      <td>5.29</td>\n",
       "    </tr>\n",
       "    <tr>\n",
       "      <th>375</th>\n",
       "      <td>19.60910</td>\n",
       "      <td>0.0</td>\n",
       "      <td>18.10</td>\n",
       "      <td>0.0</td>\n",
       "      <td>0.671</td>\n",
       "      <td>7.313</td>\n",
       "      <td>97.9</td>\n",
       "      <td>1.3163</td>\n",
       "      <td>24.0</td>\n",
       "      <td>666.0</td>\n",
       "      <td>20.2</td>\n",
       "      <td>396.90</td>\n",
       "      <td>13.44</td>\n",
       "    </tr>\n",
       "    <tr>\n",
       "      <th>372</th>\n",
       "      <td>8.26725</td>\n",
       "      <td>0.0</td>\n",
       "      <td>18.10</td>\n",
       "      <td>1.0</td>\n",
       "      <td>0.668</td>\n",
       "      <td>5.875</td>\n",
       "      <td>89.6</td>\n",
       "      <td>1.1296</td>\n",
       "      <td>24.0</td>\n",
       "      <td>666.0</td>\n",
       "      <td>20.2</td>\n",
       "      <td>347.88</td>\n",
       "      <td>8.88</td>\n",
       "    </tr>\n",
       "    <tr>\n",
       "      <th>399</th>\n",
       "      <td>9.91655</td>\n",
       "      <td>0.0</td>\n",
       "      <td>18.10</td>\n",
       "      <td>0.0</td>\n",
       "      <td>0.693</td>\n",
       "      <td>5.852</td>\n",
       "      <td>77.8</td>\n",
       "      <td>1.5004</td>\n",
       "      <td>24.0</td>\n",
       "      <td>666.0</td>\n",
       "      <td>20.2</td>\n",
       "      <td>338.16</td>\n",
       "      <td>29.97</td>\n",
       "    </tr>\n",
       "    <tr>\n",
       "      <th>489</th>\n",
       "      <td>0.18337</td>\n",
       "      <td>0.0</td>\n",
       "      <td>27.74</td>\n",
       "      <td>0.0</td>\n",
       "      <td>0.609</td>\n",
       "      <td>5.414</td>\n",
       "      <td>98.3</td>\n",
       "      <td>1.7554</td>\n",
       "      <td>4.0</td>\n",
       "      <td>711.0</td>\n",
       "      <td>20.1</td>\n",
       "      <td>344.05</td>\n",
       "      <td>23.97</td>\n",
       "    </tr>\n",
       "    <tr>\n",
       "      <th>409</th>\n",
       "      <td>14.43830</td>\n",
       "      <td>0.0</td>\n",
       "      <td>18.10</td>\n",
       "      <td>0.0</td>\n",
       "      <td>0.597</td>\n",
       "      <td>6.852</td>\n",
       "      <td>100.0</td>\n",
       "      <td>1.4655</td>\n",
       "      <td>24.0</td>\n",
       "      <td>666.0</td>\n",
       "      <td>20.2</td>\n",
       "      <td>179.36</td>\n",
       "      <td>19.78</td>\n",
       "    </tr>\n",
       "    <tr>\n",
       "      <th>410</th>\n",
       "      <td>51.13580</td>\n",
       "      <td>0.0</td>\n",
       "      <td>18.10</td>\n",
       "      <td>0.0</td>\n",
       "      <td>0.597</td>\n",
       "      <td>5.757</td>\n",
       "      <td>100.0</td>\n",
       "      <td>1.4130</td>\n",
       "      <td>24.0</td>\n",
       "      <td>666.0</td>\n",
       "      <td>20.2</td>\n",
       "      <td>2.60</td>\n",
       "      <td>10.11</td>\n",
       "    </tr>\n",
       "    <tr>\n",
       "      <th>405</th>\n",
       "      <td>67.92080</td>\n",
       "      <td>0.0</td>\n",
       "      <td>18.10</td>\n",
       "      <td>0.0</td>\n",
       "      <td>0.693</td>\n",
       "      <td>5.683</td>\n",
       "      <td>100.0</td>\n",
       "      <td>1.4254</td>\n",
       "      <td>24.0</td>\n",
       "      <td>666.0</td>\n",
       "      <td>20.2</td>\n",
       "      <td>384.97</td>\n",
       "      <td>22.98</td>\n",
       "    </tr>\n",
       "    <tr>\n",
       "      <th>490</th>\n",
       "      <td>0.20746</td>\n",
       "      <td>0.0</td>\n",
       "      <td>27.74</td>\n",
       "      <td>0.0</td>\n",
       "      <td>0.609</td>\n",
       "      <td>5.093</td>\n",
       "      <td>98.0</td>\n",
       "      <td>1.8226</td>\n",
       "      <td>4.0</td>\n",
       "      <td>711.0</td>\n",
       "      <td>20.1</td>\n",
       "      <td>318.43</td>\n",
       "      <td>29.68</td>\n",
       "    </tr>\n",
       "    <tr>\n",
       "      <th>412</th>\n",
       "      <td>18.81100</td>\n",
       "      <td>0.0</td>\n",
       "      <td>18.10</td>\n",
       "      <td>0.0</td>\n",
       "      <td>0.597</td>\n",
       "      <td>4.628</td>\n",
       "      <td>100.0</td>\n",
       "      <td>1.5539</td>\n",
       "      <td>24.0</td>\n",
       "      <td>666.0</td>\n",
       "      <td>20.2</td>\n",
       "      <td>28.79</td>\n",
       "      <td>34.37</td>\n",
       "    </tr>\n",
       "  </tbody>\n",
       "</table>\n",
       "</div>"
      ],
      "text/plain": [
       "         CRIM   ZN  INDUS  CHAS    NOX     RM    AGE     DIS   RAD    TAX  \\\n",
       "364   3.47428  0.0  18.10   1.0  0.718  8.780   82.9  1.9047  24.0  666.0   \n",
       "375  19.60910  0.0  18.10   0.0  0.671  7.313   97.9  1.3163  24.0  666.0   \n",
       "372   8.26725  0.0  18.10   1.0  0.668  5.875   89.6  1.1296  24.0  666.0   \n",
       "399   9.91655  0.0  18.10   0.0  0.693  5.852   77.8  1.5004  24.0  666.0   \n",
       "489   0.18337  0.0  27.74   0.0  0.609  5.414   98.3  1.7554   4.0  711.0   \n",
       "409  14.43830  0.0  18.10   0.0  0.597  6.852  100.0  1.4655  24.0  666.0   \n",
       "410  51.13580  0.0  18.10   0.0  0.597  5.757  100.0  1.4130  24.0  666.0   \n",
       "405  67.92080  0.0  18.10   0.0  0.693  5.683  100.0  1.4254  24.0  666.0   \n",
       "490   0.20746  0.0  27.74   0.0  0.609  5.093   98.0  1.8226   4.0  711.0   \n",
       "412  18.81100  0.0  18.10   0.0  0.597  4.628  100.0  1.5539  24.0  666.0   \n",
       "\n",
       "     PTRATIO       B  LSTAT  \n",
       "364     20.2  354.55   5.29  \n",
       "375     20.2  396.90  13.44  \n",
       "372     20.2  347.88   8.88  \n",
       "399     20.2  338.16  29.97  \n",
       "489     20.1  344.05  23.97  \n",
       "409     20.2  179.36  19.78  \n",
       "410     20.2    2.60  10.11  \n",
       "405     20.2  384.97  22.98  \n",
       "490     20.1  318.43  29.68  \n",
       "412     20.2   28.79  34.37  "
      ]
     },
     "execution_count": 55,
     "metadata": {},
     "output_type": "execute_result"
    }
   ],
   "source": [
    "df.loc[pred_std.head(10).index]"
   ]
  },
  {
   "cell_type": "markdown",
   "metadata": {},
   "source": [
    "Rows with the least variation.  These appear to be average observations that occur in the center of the training data."
   ]
  },
  {
   "cell_type": "code",
   "execution_count": 56,
   "metadata": {},
   "outputs": [
    {
     "data": {
      "text/html": [
       "<div>\n",
       "<style scoped>\n",
       "    .dataframe tbody tr th:only-of-type {\n",
       "        vertical-align: middle;\n",
       "    }\n",
       "\n",
       "    .dataframe tbody tr th {\n",
       "        vertical-align: top;\n",
       "    }\n",
       "\n",
       "    .dataframe thead th {\n",
       "        text-align: right;\n",
       "    }\n",
       "</style>\n",
       "<table border=\"1\" class=\"dataframe\">\n",
       "  <thead>\n",
       "    <tr style=\"text-align: right;\">\n",
       "      <th></th>\n",
       "      <th>CRIM</th>\n",
       "      <th>ZN</th>\n",
       "      <th>INDUS</th>\n",
       "      <th>CHAS</th>\n",
       "      <th>NOX</th>\n",
       "      <th>RM</th>\n",
       "      <th>AGE</th>\n",
       "      <th>DIS</th>\n",
       "      <th>RAD</th>\n",
       "      <th>TAX</th>\n",
       "      <th>PTRATIO</th>\n",
       "      <th>B</th>\n",
       "      <th>LSTAT</th>\n",
       "    </tr>\n",
       "  </thead>\n",
       "  <tbody>\n",
       "    <tr>\n",
       "      <th>73</th>\n",
       "      <td>0.19539</td>\n",
       "      <td>0.0</td>\n",
       "      <td>10.81</td>\n",
       "      <td>0.0</td>\n",
       "      <td>0.4130</td>\n",
       "      <td>6.245</td>\n",
       "      <td>6.2</td>\n",
       "      <td>5.2873</td>\n",
       "      <td>4.0</td>\n",
       "      <td>305.0</td>\n",
       "      <td>19.2</td>\n",
       "      <td>377.17</td>\n",
       "      <td>7.54</td>\n",
       "    </tr>\n",
       "    <tr>\n",
       "      <th>280</th>\n",
       "      <td>0.03578</td>\n",
       "      <td>20.0</td>\n",
       "      <td>3.33</td>\n",
       "      <td>0.0</td>\n",
       "      <td>0.4429</td>\n",
       "      <td>7.820</td>\n",
       "      <td>64.5</td>\n",
       "      <td>4.6947</td>\n",
       "      <td>5.0</td>\n",
       "      <td>216.0</td>\n",
       "      <td>14.9</td>\n",
       "      <td>387.31</td>\n",
       "      <td>3.76</td>\n",
       "    </tr>\n",
       "    <tr>\n",
       "      <th>271</th>\n",
       "      <td>0.16211</td>\n",
       "      <td>20.0</td>\n",
       "      <td>6.96</td>\n",
       "      <td>0.0</td>\n",
       "      <td>0.4640</td>\n",
       "      <td>6.240</td>\n",
       "      <td>16.3</td>\n",
       "      <td>4.4290</td>\n",
       "      <td>3.0</td>\n",
       "      <td>223.0</td>\n",
       "      <td>18.6</td>\n",
       "      <td>396.90</td>\n",
       "      <td>6.59</td>\n",
       "    </tr>\n",
       "    <tr>\n",
       "      <th>288</th>\n",
       "      <td>0.04590</td>\n",
       "      <td>52.5</td>\n",
       "      <td>5.32</td>\n",
       "      <td>0.0</td>\n",
       "      <td>0.4050</td>\n",
       "      <td>6.315</td>\n",
       "      <td>45.6</td>\n",
       "      <td>7.3172</td>\n",
       "      <td>6.0</td>\n",
       "      <td>293.0</td>\n",
       "      <td>16.6</td>\n",
       "      <td>396.90</td>\n",
       "      <td>7.60</td>\n",
       "    </tr>\n",
       "    <tr>\n",
       "      <th>287</th>\n",
       "      <td>0.03871</td>\n",
       "      <td>52.5</td>\n",
       "      <td>5.32</td>\n",
       "      <td>0.0</td>\n",
       "      <td>0.4050</td>\n",
       "      <td>6.209</td>\n",
       "      <td>31.3</td>\n",
       "      <td>7.3172</td>\n",
       "      <td>6.0</td>\n",
       "      <td>293.0</td>\n",
       "      <td>16.6</td>\n",
       "      <td>396.90</td>\n",
       "      <td>7.14</td>\n",
       "    </tr>\n",
       "    <tr>\n",
       "      <th>320</th>\n",
       "      <td>0.16760</td>\n",
       "      <td>0.0</td>\n",
       "      <td>7.38</td>\n",
       "      <td>0.0</td>\n",
       "      <td>0.4930</td>\n",
       "      <td>6.426</td>\n",
       "      <td>52.3</td>\n",
       "      <td>4.5404</td>\n",
       "      <td>5.0</td>\n",
       "      <td>287.0</td>\n",
       "      <td>19.6</td>\n",
       "      <td>396.90</td>\n",
       "      <td>7.20</td>\n",
       "    </tr>\n",
       "    <tr>\n",
       "      <th>321</th>\n",
       "      <td>0.18159</td>\n",
       "      <td>0.0</td>\n",
       "      <td>7.38</td>\n",
       "      <td>0.0</td>\n",
       "      <td>0.4930</td>\n",
       "      <td>6.376</td>\n",
       "      <td>54.3</td>\n",
       "      <td>4.5404</td>\n",
       "      <td>5.0</td>\n",
       "      <td>287.0</td>\n",
       "      <td>19.6</td>\n",
       "      <td>396.90</td>\n",
       "      <td>6.87</td>\n",
       "    </tr>\n",
       "    <tr>\n",
       "      <th>250</th>\n",
       "      <td>0.14030</td>\n",
       "      <td>22.0</td>\n",
       "      <td>5.86</td>\n",
       "      <td>0.0</td>\n",
       "      <td>0.4310</td>\n",
       "      <td>6.487</td>\n",
       "      <td>13.0</td>\n",
       "      <td>7.3967</td>\n",
       "      <td>7.0</td>\n",
       "      <td>330.0</td>\n",
       "      <td>19.1</td>\n",
       "      <td>396.28</td>\n",
       "      <td>5.90</td>\n",
       "    </tr>\n",
       "    <tr>\n",
       "      <th>43</th>\n",
       "      <td>0.15936</td>\n",
       "      <td>0.0</td>\n",
       "      <td>6.91</td>\n",
       "      <td>0.0</td>\n",
       "      <td>0.4480</td>\n",
       "      <td>6.211</td>\n",
       "      <td>6.5</td>\n",
       "      <td>5.7209</td>\n",
       "      <td>3.0</td>\n",
       "      <td>233.0</td>\n",
       "      <td>17.9</td>\n",
       "      <td>394.46</td>\n",
       "      <td>7.44</td>\n",
       "    </tr>\n",
       "    <tr>\n",
       "      <th>70</th>\n",
       "      <td>0.08826</td>\n",
       "      <td>0.0</td>\n",
       "      <td>10.81</td>\n",
       "      <td>0.0</td>\n",
       "      <td>0.4130</td>\n",
       "      <td>6.417</td>\n",
       "      <td>6.6</td>\n",
       "      <td>5.2873</td>\n",
       "      <td>4.0</td>\n",
       "      <td>305.0</td>\n",
       "      <td>19.2</td>\n",
       "      <td>383.73</td>\n",
       "      <td>6.72</td>\n",
       "    </tr>\n",
       "  </tbody>\n",
       "</table>\n",
       "</div>"
      ],
      "text/plain": [
       "        CRIM    ZN  INDUS  CHAS     NOX     RM   AGE     DIS  RAD    TAX  \\\n",
       "73   0.19539   0.0  10.81   0.0  0.4130  6.245   6.2  5.2873  4.0  305.0   \n",
       "280  0.03578  20.0   3.33   0.0  0.4429  7.820  64.5  4.6947  5.0  216.0   \n",
       "271  0.16211  20.0   6.96   0.0  0.4640  6.240  16.3  4.4290  3.0  223.0   \n",
       "288  0.04590  52.5   5.32   0.0  0.4050  6.315  45.6  7.3172  6.0  293.0   \n",
       "287  0.03871  52.5   5.32   0.0  0.4050  6.209  31.3  7.3172  6.0  293.0   \n",
       "320  0.16760   0.0   7.38   0.0  0.4930  6.426  52.3  4.5404  5.0  287.0   \n",
       "321  0.18159   0.0   7.38   0.0  0.4930  6.376  54.3  4.5404  5.0  287.0   \n",
       "250  0.14030  22.0   5.86   0.0  0.4310  6.487  13.0  7.3967  7.0  330.0   \n",
       "43   0.15936   0.0   6.91   0.0  0.4480  6.211   6.5  5.7209  3.0  233.0   \n",
       "70   0.08826   0.0  10.81   0.0  0.4130  6.417   6.6  5.2873  4.0  305.0   \n",
       "\n",
       "     PTRATIO       B  LSTAT  \n",
       "73      19.2  377.17   7.54  \n",
       "280     14.9  387.31   3.76  \n",
       "271     18.6  396.90   6.59  \n",
       "288     16.6  396.90   7.60  \n",
       "287     16.6  396.90   7.14  \n",
       "320     19.6  396.90   7.20  \n",
       "321     19.6  396.90   6.87  \n",
       "250     19.1  396.28   5.90  \n",
       "43      17.9  394.46   7.44  \n",
       "70      19.2  383.73   6.72  "
      ]
     },
     "execution_count": 56,
     "metadata": {},
     "output_type": "execute_result"
    }
   ],
   "source": [
    "df.loc[pred_std.tail(10).index]"
   ]
  },
  {
   "cell_type": "markdown",
   "metadata": {},
   "source": [
    "Minimum and maximum for each of attribute"
   ]
  },
  {
   "cell_type": "code",
   "execution_count": 57,
   "metadata": {},
   "outputs": [
    {
     "data": {
      "text/html": [
       "<div>\n",
       "<style scoped>\n",
       "    .dataframe tbody tr th:only-of-type {\n",
       "        vertical-align: middle;\n",
       "    }\n",
       "\n",
       "    .dataframe tbody tr th {\n",
       "        vertical-align: top;\n",
       "    }\n",
       "\n",
       "    .dataframe thead th {\n",
       "        text-align: right;\n",
       "    }\n",
       "</style>\n",
       "<table border=\"1\" class=\"dataframe\">\n",
       "  <thead>\n",
       "    <tr style=\"text-align: right;\">\n",
       "      <th></th>\n",
       "      <th>min</th>\n",
       "      <th>max</th>\n",
       "    </tr>\n",
       "  </thead>\n",
       "  <tbody>\n",
       "    <tr>\n",
       "      <th>CRIM</th>\n",
       "      <td>0.00632</td>\n",
       "      <td>88.9762</td>\n",
       "    </tr>\n",
       "    <tr>\n",
       "      <th>ZN</th>\n",
       "      <td>0.00000</td>\n",
       "      <td>100.0000</td>\n",
       "    </tr>\n",
       "    <tr>\n",
       "      <th>INDUS</th>\n",
       "      <td>0.46000</td>\n",
       "      <td>27.7400</td>\n",
       "    </tr>\n",
       "    <tr>\n",
       "      <th>CHAS</th>\n",
       "      <td>0.00000</td>\n",
       "      <td>1.0000</td>\n",
       "    </tr>\n",
       "    <tr>\n",
       "      <th>NOX</th>\n",
       "      <td>0.38500</td>\n",
       "      <td>0.8710</td>\n",
       "    </tr>\n",
       "    <tr>\n",
       "      <th>RM</th>\n",
       "      <td>3.56100</td>\n",
       "      <td>8.7800</td>\n",
       "    </tr>\n",
       "    <tr>\n",
       "      <th>AGE</th>\n",
       "      <td>2.90000</td>\n",
       "      <td>100.0000</td>\n",
       "    </tr>\n",
       "    <tr>\n",
       "      <th>DIS</th>\n",
       "      <td>1.12960</td>\n",
       "      <td>12.1265</td>\n",
       "    </tr>\n",
       "    <tr>\n",
       "      <th>RAD</th>\n",
       "      <td>1.00000</td>\n",
       "      <td>24.0000</td>\n",
       "    </tr>\n",
       "    <tr>\n",
       "      <th>TAX</th>\n",
       "      <td>187.00000</td>\n",
       "      <td>711.0000</td>\n",
       "    </tr>\n",
       "    <tr>\n",
       "      <th>PTRATIO</th>\n",
       "      <td>12.60000</td>\n",
       "      <td>22.0000</td>\n",
       "    </tr>\n",
       "    <tr>\n",
       "      <th>B</th>\n",
       "      <td>0.32000</td>\n",
       "      <td>396.9000</td>\n",
       "    </tr>\n",
       "    <tr>\n",
       "      <th>LSTAT</th>\n",
       "      <td>1.73000</td>\n",
       "      <td>37.9700</td>\n",
       "    </tr>\n",
       "  </tbody>\n",
       "</table>\n",
       "</div>"
      ],
      "text/plain": [
       "               min       max\n",
       "CRIM       0.00632   88.9762\n",
       "ZN         0.00000  100.0000\n",
       "INDUS      0.46000   27.7400\n",
       "CHAS       0.00000    1.0000\n",
       "NOX        0.38500    0.8710\n",
       "RM         3.56100    8.7800\n",
       "AGE        2.90000  100.0000\n",
       "DIS        1.12960   12.1265\n",
       "RAD        1.00000   24.0000\n",
       "TAX      187.00000  711.0000\n",
       "PTRATIO   12.60000   22.0000\n",
       "B          0.32000  396.9000\n",
       "LSTAT      1.73000   37.9700"
      ]
     },
     "execution_count": 57,
     "metadata": {},
     "output_type": "execute_result"
    }
   ],
   "source": [
    "df.apply(lambda x: pd.Series({\"min\": x.min(), \"max\": x.max()})).T"
   ]
  }
 ],
 "metadata": {
  "kernelspec": {
   "display_name": "Python 3",
   "language": "python",
   "name": "python3"
  },
  "language_info": {
   "codemirror_mode": {
    "name": "ipython",
    "version": 3
   },
   "file_extension": ".py",
   "mimetype": "text/x-python",
   "name": "python",
   "nbconvert_exporter": "python",
   "pygments_lexer": "ipython3",
   "version": "3.6.5"
  }
 },
 "nbformat": 4,
 "nbformat_minor": 2
}
